{
 "cells": [
  {
   "cell_type": "code",
   "execution_count": 1,
   "metadata": {},
   "outputs": [],
   "source": [
    "import socket\n",
    "import signal\n",
    "import threading\n",
    "from concurrent.futures import ThreadPoolExecutor\n",
    "import time\n",
    "from collections import namedtuple\n",
    "import ssl \n",
    "import os\n",
    "from subprocess import Popen, PIPE"
   ]
  },
  {
   "cell_type": "code",
   "execution_count": 13,
   "metadata": {},
   "outputs": [],
   "source": [
    "Config = namedtuple('config', 'LISTENNQ MAX_REQUEST_LEN socket, timeout')\n",
    "config = Config(LISTENNQ=10, MAX_REQUEST_LEN=1024, socket=('', 12345), timeout = 10.0)\n",
    "terminator = b'\\r\\n\\r\\n'\n",
    "blackList = ['sing.cse.ust.hk']"
   ]
  },
  {
   "cell_type": "code",
   "execution_count": 3,
   "metadata": {},
   "outputs": [],
   "source": [
    "def join_with_script_dir(path):\n",
    "    root = !pwd\n",
    "    return os.path.join(root[0], path)\n",
    "\n",
    "certdir = join_with_script_dir('certs/')\n",
    "cakey = join_with_script_dir('ca.key')\n",
    "cacert = join_with_script_dir('ca.crt')\n",
    "certkey = join_with_script_dir('cert.key')"
   ]
  },
  {
   "cell_type": "code",
   "execution_count": 4,
   "metadata": {},
   "outputs": [],
   "source": [
    "class httpHeader():\n",
    "    def __init__(self, msg):\n",
    "        self.raw = msg #in bytes\n",
    "        msg = msg.strip(terminator).decode()\n",
    "        msg = msg.split('\\r\\n')\n",
    "        self.firstLine = msg[0].split(' ')\n",
    "        header = msg[1:]\n",
    "        tags = {}\n",
    "        for row in header:\n",
    "            field = row.split(':')\n",
    "            tags[field[0].strip()] = ':'.join(field[1:]).strip()\n",
    "        self.fields = tags\n",
    "        \n",
    "class responseHeader(httpHeader):\n",
    "    def __init__(self, msg):\n",
    "        super(responseHeader,self).__init__(msg)\n",
    "        if not self.firstLine[0].startswith('HTTP'):\n",
    "            print(\"not a vaild response\")\n",
    "            self = None\n",
    "            return\n",
    "        self.statusCode = self.firstLine[1]\n",
    "        self.statusMessage = self.firstLine[2:]\n",
    "        self.protocol = self.firstLine[0]\n",
    "        \n",
    "class requestHeader(httpHeader):\n",
    "    def __init__(self, msg):\n",
    "        super(requestHeader,self).__init__(msg)\n",
    "        if not self.firstLine[-1].startswith('HTTP'):\n",
    "            print(\"not a vaild requst\")\n",
    "            self = None\n",
    "            return\n",
    "        self.method = self.firstLine[0]\n",
    "        self.link = self.firstLine[1]\n",
    "        self.protocol = self.firstLine[2]\n",
    "        \n",
    "    def parseHost(self):\n",
    "        url = self.fields['Host']\n",
    "        portNo = url.find(':')\n",
    "        if portNo == -1:\n",
    "            port = 80\n",
    "            webserver = url\n",
    "        else:\n",
    "            port = int(url[portNo+1:])\n",
    "            webserver = url[:portNo]\n",
    "        print(webserver, port)\n",
    "        self.target = webserver; self.port = port\n",
    "        \n",
    "    def replaceRelative(self):\n",
    "        url = self.link.encode()\n",
    "        newUrl = url.replace(b'http://', b'')\n",
    "        pathPos = newUrl.find(b'/')\n",
    "        if pathPos == -1:\n",
    "            self.raw = self.raw.replace(url, b'/', 1)\n",
    "        else:\n",
    "            self.raw = self.raw.replace(url, newUrl[pathPos:], 1)\n",
    "            "
   ]
  },
  {
   "cell_type": "code",
   "execution_count": 5,
   "metadata": {},
   "outputs": [],
   "source": [
    "def send_cacert(conn):\n",
    "    with open(cacert, 'rb') as f:\n",
    "        data = f.read()\n",
    "    response = '''HTTP/1.1 200 OK\\r\n",
    "Content-Type: application/x-x509-ca-cert\\r\n",
    "Content-Length: %d\\r\n",
    "Connection: close\\r\n",
    "\\r\\n'''%(len(data))\n",
    "    response = response.encode('utf8')\n",
    "    payload = response + data\n",
    "    conn.sendall(payload)\n",
    "    \n",
    "def createCert(certpath, target):\n",
    "    epoch = \"%d\" % (time.time() * 1000)\n",
    "    p1 = Popen([\"openssl\", \"req\", \"-new\", \"-key\", certkey, \"-subj\", \"/CN=%s\" % target], stdout=PIPE)\n",
    "    p2 = Popen([\"openssl\", \"x509\", \"-req\", \"-days\", \"3650\", \"-CA\", cacert, \"-CAkey\", cakey, \"-set_serial\", epoch, \"-out\", certpath], stdin=p1.stdout, stderr=PIPE)\n",
    "    p2.communicate()"
   ]
  },
  {
   "cell_type": "code",
   "execution_count": 14,
   "metadata": {},
   "outputs": [],
   "source": [
    "def parseHost(url):\n",
    "    portNo = url.find(':')\n",
    "    if portNo == -1:\n",
    "        port = 80\n",
    "        webserver = url\n",
    "    else:\n",
    "        port = int(url[portNo+1:])\n",
    "        webserver = url[:portNo]\n",
    "    print(webserver, port)\n",
    "    return webserver, port\n",
    "    \n",
    "def createResponse(protocol, statusCode):\n",
    "    protocol = protocol.encode()\n",
    "    if statusCode == 200:\n",
    "        return b'%s 200 Connection Established%s'%(protocol, terminator)\n",
    "    elif statusCode == 408:\n",
    "        return b\"%s 408 Request Timeout%s\"%(protocol, terminator)\n",
    "    elif statusCode == 404:\n",
    "        return b\"%s 404 Not Found%s\"%(protocol, terminator)"
   ]
  },
  {
   "cell_type": "code",
   "execution_count": 18,
   "metadata": {},
   "outputs": [],
   "source": [
    "class end(Exception): pass"
   ]
  },
  {
   "cell_type": "code",
   "execution_count": 19,
   "metadata": {},
   "outputs": [],
   "source": [
    "def sendAll(sock, msg):\n",
    "#     print(msg)\n",
    "    totalsent = 0\n",
    "    while totalsent < len(msg):\n",
    "        sent = sock.send(msg[totalsent:])\n",
    "        if sent == 0:\n",
    "            raise RuntimeError(\"socket connection broken\")\n",
    "        totalsent = totalsent + sent\n",
    "    return totalsent\n",
    "        \n",
    "def readSocket(sock):\n",
    "    buffer = b''\n",
    "    while 1:\n",
    "        data = sock.recv(config.MAX_REQUEST_LEN)\n",
    "        if len(data) == 0:\n",
    "            return buffer, True\n",
    "        buffer += data\n",
    "        if terminator in buffer:    #check end\n",
    "            bufferSplit = buffer.split(terminator)    \n",
    "            header = bufferSplit[0]\n",
    "            headerDetail = httpHeader(header)\n",
    "            encoding = headerDetail.fields.get('Transfer-Encoding',-1)\n",
    "            length = headerDetail.fields.get('Content-Length',-1)\n",
    "            if (encoding == -1 and length == -1) or \\\n",
    "                (encoding == 'chunked' and b'\\r\\n0\\r\\n' in bufferSplit[1]) or \\\n",
    "                int(length) == len(bufferSplit[1]):\n",
    "                    return buffer, False\n",
    "                \n",
    "#receive connect request from client\n",
    "def handleRequest(conn):\n",
    "    (clientSocket, client_address) = conn\n",
    "    clientSocket.settimeout(config.timeout)\n",
    "    buffer = b''\n",
    "    while 1:\n",
    "        try:\n",
    "            request = clientSocket.recv(config.MAX_REQUEST_LEN)\n",
    "            buffer += request\n",
    "            if terminator in request:\n",
    "                break\n",
    "            elif len(request) == 0:\n",
    "                raise RuntimeError(\"client close connection during init\")\n",
    "        except ConnectionResetError as e:\n",
    "            raise RuntimeError(\"Connection Reset Error\")\n",
    "        except socket.timeout as t:\n",
    "            sendAll(clientSocket, createResponse(\"HTTP/1.1\", 408))\n",
    "            raise RuntimeError(\"Client request timeout\")\n",
    "    request = requestHeader(buffer)\n",
    "    request.parseHost()\n",
    "    try:\n",
    "    ##########special cases#################\n",
    "        if request.target in blackList:\n",
    "            print(\"black\")\n",
    "            response = createResponse(request.protocol, 404)\n",
    "            sendAll(clientSocket, response)\n",
    "            raise end()\n",
    "        if request.target == 'www.proxy.test':\n",
    "            send_cacert(clientSocket)\n",
    "            raise end()\n",
    "        ########################################\n",
    "        redirect(clientSocket, request)\n",
    "    except end:\n",
    "        pass\n",
    "    clientSocket.close()\n",
    "\n",
    "#redirect following request and response to and from client\n",
    "def redirect(conn, proxyRequest):\n",
    "    s = socket.socket(socket.AF_INET, socket.SOCK_STREAM)\n",
    "    s.settimeout(config.timeout)\n",
    "    https = proxyRequest.method == 'CONNECT'\n",
    "    if https:\n",
    "        context = ssl.create_default_context()\n",
    "        s = context.wrap_socket(s, server_hostname=proxyRequest.target) #ssl connection with real server\n",
    "        s.connect((proxyRequest.target, proxyRequest.port))\n",
    "        sendAll(conn, createResponse(\"HTTP/1.1\", 200))\n",
    "        certpath = \"%s/%s.crt\" % (certdir.rstrip('/'), proxyRequest.target)\n",
    "        if not os.path.isfile(certpath): #create self-signed cert\n",
    "            createCert(certpath, proxyRequest.target)\n",
    "        conn = ssl.wrap_socket(conn, keyfile=certkey, certfile=certpath, server_side=True) # ssl connection with client\n",
    "    else:\n",
    "        s.connect((proxyRequest.target, proxyRequest.port))\n",
    "        proxyRequest.replaceRelative()\n",
    "        sendAll(s, proxyRequest.raw)\n",
    "    first = True\n",
    "    while 1:\n",
    "        try:\n",
    "            if https or not first:\n",
    "                request, endOfClientSocket = readSocket(conn) #read client request\n",
    "                if not https:\n",
    "                    request = requestHeader(request)\n",
    "                    request.replaceRelative()\n",
    "                    request = request.raw\n",
    "                sendAll(s, request)\n",
    "                if endOfClientSocket:\n",
    "                    break\n",
    "            response, endOfServerSocket = readSocket(s) # read server response\n",
    "            sendAll(conn, response)\n",
    "            if endOfServerSocket:\n",
    "                break\n",
    "            first = False\n",
    "        except socket.timeout:\n",
    "            pass\n",
    "    s.close()"
   ]
  },
  {
   "cell_type": "code",
   "execution_count": 8,
   "metadata": {},
   "outputs": [],
   "source": [
    "class Server():\n",
    "    def __init__(self, config):\n",
    "        signal.signal(signal.SIGINT, self.shutdown) \n",
    "        self.serverSocket = socket.socket(socket.AF_INET, socket.SOCK_STREAM)\n",
    "        self.serverSocket.setsockopt(socket.SOL_SOCKET, socket.SO_REUSEADDR, 1)\n",
    "        self.serverSocket.bind(config.socket)\n",
    "        self.serverSocket.listen(config.LISTENNQ)\n",
    "        self.jobs = []\n",
    "    \n",
    "    def shutdown(self):\n",
    "        for job in self.jobs:\n",
    "            while not job.done():\n",
    "                pass\n",
    "        self.serverSocket.shutdown(socket.SHUT_RDWR)\n",
    "        self.serverSocket.close()\n",
    "    "
   ]
  },
  {
   "cell_type": "code",
   "execution_count": 9,
   "metadata": {},
   "outputs": [],
   "source": [
    "executor = ThreadPoolExecutor(config.LISTENNQ)"
   ]
  },
  {
   "cell_type": "code",
   "execution_count": 16,
   "metadata": {},
   "outputs": [],
   "source": [
    "server = Server(config)"
   ]
  },
  {
   "cell_type": "code",
   "execution_count": 12,
   "metadata": {},
   "outputs": [],
   "source": [
    "server.shutdown()"
   ]
  },
  {
   "cell_type": "code",
   "execution_count": 20,
   "metadata": {
    "scrolled": true
   },
   "outputs": [
    {
     "name": "stdout",
     "output_type": "stream",
     "text": [
      "tiles.services.mozilla.com 443\n",
      "www.google.comwww.google.com 443\n",
      " 443\n",
      "www.google.com 443\n",
      "www.google.com www.google.comwww.google.com 443\n",
      "443\n",
      "www.google.com www.google.comwww.google.com 443\n",
      "443\n",
      "  443\n",
      "443\n",
      "sing.cse.ust.hk 80\n",
      "black\n",
      "sing.cse.ust.hk 80\n",
      "black\n",
      "sing.cse.ust.hk 80\n",
      "black\n",
      "firefox.settings.services.mozilla.com 443\n",
      "tiles.services.mozilla.com 443\n",
      "sing.cse.ust.hk 80\n",
      "black\n",
      "developer.mozilla.org 443\n",
      "developer.mozilla.org 443\n",
      "tiles.services.mozilla.com 443\n",
      "tiles.services.mozilla.com 443\n",
      "www.google.com 443\n",
      "www.google.com 443\n",
      "sing.cse.ust.hk 80\n",
      "black\n",
      "safebrowsing.googleapis.com 443\n",
      "tiles.services.mozilla.com 443\n",
      "sing.cse.ust.hk 80\n",
      "black\n"
     ]
    },
    {
     "ename": "KeyboardInterrupt",
     "evalue": "",
     "output_type": "error",
     "traceback": [
      "\u001b[0;31m---------------------------------------------------------------------------\u001b[0m",
      "\u001b[0;31mKeyboardInterrupt\u001b[0m                         Traceback (most recent call last)",
      "\u001b[0;32m<ipython-input-20-d8e6cec2b096>\u001b[0m in \u001b[0;36m<module>\u001b[0;34m\u001b[0m\n\u001b[1;32m      1\u001b[0m \u001b[0;32mwhile\u001b[0m \u001b[0;32mTrue\u001b[0m\u001b[0;34m:\u001b[0m\u001b[0;34m\u001b[0m\u001b[0;34m\u001b[0m\u001b[0m\n\u001b[0;32m----> 2\u001b[0;31m     \u001b[0mconn\u001b[0m\u001b[0;34m,\u001b[0m\u001b[0maddr\u001b[0m \u001b[0;34m=\u001b[0m \u001b[0mserver\u001b[0m\u001b[0;34m.\u001b[0m\u001b[0mserverSocket\u001b[0m\u001b[0;34m.\u001b[0m\u001b[0maccept\u001b[0m\u001b[0;34m(\u001b[0m\u001b[0;34m)\u001b[0m\u001b[0;34m\u001b[0m\u001b[0;34m\u001b[0m\u001b[0m\n\u001b[0m\u001b[1;32m      3\u001b[0m     \u001b[0mserver\u001b[0m\u001b[0;34m.\u001b[0m\u001b[0mjobs\u001b[0m\u001b[0;34m.\u001b[0m\u001b[0mappend\u001b[0m\u001b[0;34m(\u001b[0m\u001b[0mexecutor\u001b[0m\u001b[0;34m.\u001b[0m\u001b[0msubmit\u001b[0m\u001b[0;34m(\u001b[0m\u001b[0mhandleRequest\u001b[0m\u001b[0;34m,\u001b[0m \u001b[0;34m(\u001b[0m\u001b[0mconn\u001b[0m\u001b[0;34m,\u001b[0m \u001b[0maddr\u001b[0m\u001b[0;34m)\u001b[0m\u001b[0;34m)\u001b[0m\u001b[0;34m)\u001b[0m\u001b[0;34m\u001b[0m\u001b[0;34m\u001b[0m\u001b[0m\n\u001b[1;32m      4\u001b[0m \u001b[0;31m# while True:\u001b[0m\u001b[0;34m\u001b[0m\u001b[0;34m\u001b[0m\u001b[0;34m\u001b[0m\u001b[0m\n\u001b[1;32m      5\u001b[0m \u001b[0;31m#     conn,addr = server.serverSocket.accept()\u001b[0m\u001b[0;34m\u001b[0m\u001b[0;34m\u001b[0m\u001b[0;34m\u001b[0m\u001b[0m\n",
      "\u001b[0;32m~/anaconda3/lib/python3.7/socket.py\u001b[0m in \u001b[0;36maccept\u001b[0;34m(self)\u001b[0m\n\u001b[1;32m    210\u001b[0m         \u001b[0mFor\u001b[0m \u001b[0mIP\u001b[0m \u001b[0msockets\u001b[0m\u001b[0;34m,\u001b[0m \u001b[0mthe\u001b[0m \u001b[0maddress\u001b[0m \u001b[0minfo\u001b[0m \u001b[0;32mis\u001b[0m \u001b[0ma\u001b[0m \u001b[0mpair\u001b[0m \u001b[0;34m(\u001b[0m\u001b[0mhostaddr\u001b[0m\u001b[0;34m,\u001b[0m \u001b[0mport\u001b[0m\u001b[0;34m)\u001b[0m\u001b[0;34m.\u001b[0m\u001b[0;34m\u001b[0m\u001b[0;34m\u001b[0m\u001b[0m\n\u001b[1;32m    211\u001b[0m         \"\"\"\n\u001b[0;32m--> 212\u001b[0;31m         \u001b[0mfd\u001b[0m\u001b[0;34m,\u001b[0m \u001b[0maddr\u001b[0m \u001b[0;34m=\u001b[0m \u001b[0mself\u001b[0m\u001b[0;34m.\u001b[0m\u001b[0m_accept\u001b[0m\u001b[0;34m(\u001b[0m\u001b[0;34m)\u001b[0m\u001b[0;34m\u001b[0m\u001b[0;34m\u001b[0m\u001b[0m\n\u001b[0m\u001b[1;32m    213\u001b[0m         \u001b[0msock\u001b[0m \u001b[0;34m=\u001b[0m \u001b[0msocket\u001b[0m\u001b[0;34m(\u001b[0m\u001b[0mself\u001b[0m\u001b[0;34m.\u001b[0m\u001b[0mfamily\u001b[0m\u001b[0;34m,\u001b[0m \u001b[0mself\u001b[0m\u001b[0;34m.\u001b[0m\u001b[0mtype\u001b[0m\u001b[0;34m,\u001b[0m \u001b[0mself\u001b[0m\u001b[0;34m.\u001b[0m\u001b[0mproto\u001b[0m\u001b[0;34m,\u001b[0m \u001b[0mfileno\u001b[0m\u001b[0;34m=\u001b[0m\u001b[0mfd\u001b[0m\u001b[0;34m)\u001b[0m\u001b[0;34m\u001b[0m\u001b[0;34m\u001b[0m\u001b[0m\n\u001b[1;32m    214\u001b[0m         \u001b[0;31m# Issue #7995: if no default timeout is set and the listening\u001b[0m\u001b[0;34m\u001b[0m\u001b[0;34m\u001b[0m\u001b[0;34m\u001b[0m\u001b[0m\n",
      "\u001b[0;31mKeyboardInterrupt\u001b[0m: "
     ]
    }
   ],
   "source": [
    "while True:\n",
    "    conn,addr = server.serverSocket.accept()\n",
    "    server.jobs.append(executor.submit(handleRequest, (conn, addr)))\n",
    "# while True:\n",
    "#     conn,addr = server.serverSocket.accept()\n",
    "#     handleRequest((conn, addr))\n",
    "server.shutdown()"
   ]
  },
  {
   "cell_type": "code",
   "execution_count": 132,
   "metadata": {},
   "outputs": [
    {
     "ename": "RuntimeError",
     "evalue": "timeout",
     "output_type": "error",
     "traceback": [
      "\u001b[0;31m---------------------------------------------------------------------------\u001b[0m",
      "\u001b[0;31mtimeout\u001b[0m                                   Traceback (most recent call last)",
      "\u001b[0;32m<ipython-input-128-0a1e9107b846>\u001b[0m in \u001b[0;36mredirect\u001b[0;34m(conn, proxyRequest)\u001b[0m\n\u001b[1;32m     82\u001b[0m                     \u001b[0;32mbreak\u001b[0m\u001b[0;34m\u001b[0m\u001b[0;34m\u001b[0m\u001b[0m\n\u001b[0;32m---> 83\u001b[0;31m             \u001b[0mresponse\u001b[0m\u001b[0;34m,\u001b[0m \u001b[0mendOfServerSocket\u001b[0m \u001b[0;34m=\u001b[0m \u001b[0mreadSocket\u001b[0m\u001b[0;34m(\u001b[0m\u001b[0ms\u001b[0m\u001b[0;34m)\u001b[0m \u001b[0;31m# read server response\u001b[0m\u001b[0;34m\u001b[0m\u001b[0;34m\u001b[0m\u001b[0m\n\u001b[0m\u001b[1;32m     84\u001b[0m             \u001b[0msendAll\u001b[0m\u001b[0;34m(\u001b[0m\u001b[0mconn\u001b[0m\u001b[0;34m,\u001b[0m \u001b[0mresponse\u001b[0m\u001b[0;34m)\u001b[0m\u001b[0;34m\u001b[0m\u001b[0;34m\u001b[0m\u001b[0m\n",
      "\u001b[0;32m<ipython-input-128-0a1e9107b846>\u001b[0m in \u001b[0;36mreadSocket\u001b[0;34m(sock)\u001b[0m\n\u001b[1;32m     13\u001b[0m     \u001b[0;32mwhile\u001b[0m \u001b[0;36m1\u001b[0m\u001b[0;34m:\u001b[0m\u001b[0;34m\u001b[0m\u001b[0;34m\u001b[0m\u001b[0m\n\u001b[0;32m---> 14\u001b[0;31m         \u001b[0mdata\u001b[0m \u001b[0;34m=\u001b[0m \u001b[0msock\u001b[0m\u001b[0;34m.\u001b[0m\u001b[0mrecv\u001b[0m\u001b[0;34m(\u001b[0m\u001b[0mconfig\u001b[0m\u001b[0;34m.\u001b[0m\u001b[0mMAX_REQUEST_LEN\u001b[0m\u001b[0;34m)\u001b[0m\u001b[0;34m\u001b[0m\u001b[0;34m\u001b[0m\u001b[0m\n\u001b[0m\u001b[1;32m     15\u001b[0m         \u001b[0;32mif\u001b[0m \u001b[0mlen\u001b[0m\u001b[0;34m(\u001b[0m\u001b[0mdata\u001b[0m\u001b[0;34m)\u001b[0m \u001b[0;34m==\u001b[0m \u001b[0;36m0\u001b[0m\u001b[0;34m:\u001b[0m\u001b[0;34m\u001b[0m\u001b[0;34m\u001b[0m\u001b[0m\n",
      "\u001b[0;31mtimeout\u001b[0m: timed out",
      "\nDuring handling of the above exception, another exception occurred:\n",
      "\u001b[0;31mRuntimeError\u001b[0m                              Traceback (most recent call last)",
      "\u001b[0;32m<ipython-input-132-c8220f9178b4>\u001b[0m in \u001b[0;36m<module>\u001b[0;34m\u001b[0m\n\u001b[0;32m----> 1\u001b[0;31m \u001b[0mserver\u001b[0m\u001b[0;34m.\u001b[0m\u001b[0mjobs\u001b[0m\u001b[0;34m[\u001b[0m\u001b[0;34m-\u001b[0m\u001b[0;36m1\u001b[0m\u001b[0;34m]\u001b[0m\u001b[0;34m.\u001b[0m\u001b[0mresult\u001b[0m\u001b[0;34m(\u001b[0m\u001b[0;34m)\u001b[0m\u001b[0;34m\u001b[0m\u001b[0;34m\u001b[0m\u001b[0m\n\u001b[0m",
      "\u001b[0;32m~/anaconda3/lib/python3.7/concurrent/futures/_base.py\u001b[0m in \u001b[0;36mresult\u001b[0;34m(self, timeout)\u001b[0m\n\u001b[1;32m    423\u001b[0m                 \u001b[0;32mraise\u001b[0m \u001b[0mCancelledError\u001b[0m\u001b[0;34m(\u001b[0m\u001b[0;34m)\u001b[0m\u001b[0;34m\u001b[0m\u001b[0;34m\u001b[0m\u001b[0m\n\u001b[1;32m    424\u001b[0m             \u001b[0;32melif\u001b[0m \u001b[0mself\u001b[0m\u001b[0;34m.\u001b[0m\u001b[0m_state\u001b[0m \u001b[0;34m==\u001b[0m \u001b[0mFINISHED\u001b[0m\u001b[0;34m:\u001b[0m\u001b[0;34m\u001b[0m\u001b[0;34m\u001b[0m\u001b[0m\n\u001b[0;32m--> 425\u001b[0;31m                 \u001b[0;32mreturn\u001b[0m \u001b[0mself\u001b[0m\u001b[0;34m.\u001b[0m\u001b[0m__get_result\u001b[0m\u001b[0;34m(\u001b[0m\u001b[0;34m)\u001b[0m\u001b[0;34m\u001b[0m\u001b[0;34m\u001b[0m\u001b[0m\n\u001b[0m\u001b[1;32m    426\u001b[0m \u001b[0;34m\u001b[0m\u001b[0m\n\u001b[1;32m    427\u001b[0m             \u001b[0mself\u001b[0m\u001b[0;34m.\u001b[0m\u001b[0m_condition\u001b[0m\u001b[0;34m.\u001b[0m\u001b[0mwait\u001b[0m\u001b[0;34m(\u001b[0m\u001b[0mtimeout\u001b[0m\u001b[0;34m)\u001b[0m\u001b[0;34m\u001b[0m\u001b[0;34m\u001b[0m\u001b[0m\n",
      "\u001b[0;32m~/anaconda3/lib/python3.7/concurrent/futures/_base.py\u001b[0m in \u001b[0;36m__get_result\u001b[0;34m(self)\u001b[0m\n\u001b[1;32m    382\u001b[0m     \u001b[0;32mdef\u001b[0m \u001b[0m__get_result\u001b[0m\u001b[0;34m(\u001b[0m\u001b[0mself\u001b[0m\u001b[0;34m)\u001b[0m\u001b[0;34m:\u001b[0m\u001b[0;34m\u001b[0m\u001b[0;34m\u001b[0m\u001b[0m\n\u001b[1;32m    383\u001b[0m         \u001b[0;32mif\u001b[0m \u001b[0mself\u001b[0m\u001b[0;34m.\u001b[0m\u001b[0m_exception\u001b[0m\u001b[0;34m:\u001b[0m\u001b[0;34m\u001b[0m\u001b[0;34m\u001b[0m\u001b[0m\n\u001b[0;32m--> 384\u001b[0;31m             \u001b[0;32mraise\u001b[0m \u001b[0mself\u001b[0m\u001b[0;34m.\u001b[0m\u001b[0m_exception\u001b[0m\u001b[0;34m\u001b[0m\u001b[0;34m\u001b[0m\u001b[0m\n\u001b[0m\u001b[1;32m    385\u001b[0m         \u001b[0;32melse\u001b[0m\u001b[0;34m:\u001b[0m\u001b[0;34m\u001b[0m\u001b[0;34m\u001b[0m\u001b[0m\n\u001b[1;32m    386\u001b[0m             \u001b[0;32mreturn\u001b[0m \u001b[0mself\u001b[0m\u001b[0;34m.\u001b[0m\u001b[0m_result\u001b[0m\u001b[0;34m\u001b[0m\u001b[0;34m\u001b[0m\u001b[0m\n",
      "\u001b[0;32m~/anaconda3/lib/python3.7/concurrent/futures/thread.py\u001b[0m in \u001b[0;36mrun\u001b[0;34m(self)\u001b[0m\n\u001b[1;32m     55\u001b[0m \u001b[0;34m\u001b[0m\u001b[0m\n\u001b[1;32m     56\u001b[0m         \u001b[0;32mtry\u001b[0m\u001b[0;34m:\u001b[0m\u001b[0;34m\u001b[0m\u001b[0;34m\u001b[0m\u001b[0m\n\u001b[0;32m---> 57\u001b[0;31m             \u001b[0mresult\u001b[0m \u001b[0;34m=\u001b[0m \u001b[0mself\u001b[0m\u001b[0;34m.\u001b[0m\u001b[0mfn\u001b[0m\u001b[0;34m(\u001b[0m\u001b[0;34m*\u001b[0m\u001b[0mself\u001b[0m\u001b[0;34m.\u001b[0m\u001b[0margs\u001b[0m\u001b[0;34m,\u001b[0m \u001b[0;34m**\u001b[0m\u001b[0mself\u001b[0m\u001b[0;34m.\u001b[0m\u001b[0mkwargs\u001b[0m\u001b[0;34m)\u001b[0m\u001b[0;34m\u001b[0m\u001b[0;34m\u001b[0m\u001b[0m\n\u001b[0m\u001b[1;32m     58\u001b[0m         \u001b[0;32mexcept\u001b[0m \u001b[0mBaseException\u001b[0m \u001b[0;32mas\u001b[0m \u001b[0mexc\u001b[0m\u001b[0;34m:\u001b[0m\u001b[0;34m\u001b[0m\u001b[0;34m\u001b[0m\u001b[0m\n\u001b[1;32m     59\u001b[0m             \u001b[0mself\u001b[0m\u001b[0;34m.\u001b[0m\u001b[0mfuture\u001b[0m\u001b[0;34m.\u001b[0m\u001b[0mset_exception\u001b[0m\u001b[0;34m(\u001b[0m\u001b[0mexc\u001b[0m\u001b[0;34m)\u001b[0m\u001b[0;34m\u001b[0m\u001b[0;34m\u001b[0m\u001b[0m\n",
      "\u001b[0;32m<ipython-input-128-0a1e9107b846>\u001b[0m in \u001b[0;36mhandleRequest\u001b[0;34m(conn)\u001b[0m\n\u001b[1;32m     51\u001b[0m         \u001b[0;32mreturn\u001b[0m\u001b[0;34m\u001b[0m\u001b[0;34m\u001b[0m\u001b[0m\n\u001b[1;32m     52\u001b[0m     \u001b[0mprint\u001b[0m\u001b[0;34m(\u001b[0m\u001b[0mrequest\u001b[0m\u001b[0;34m.\u001b[0m\u001b[0mraw\u001b[0m\u001b[0;34m)\u001b[0m\u001b[0;34m\u001b[0m\u001b[0;34m\u001b[0m\u001b[0m\n\u001b[0;32m---> 53\u001b[0;31m     \u001b[0mredirect\u001b[0m\u001b[0;34m(\u001b[0m\u001b[0mclientSocket\u001b[0m\u001b[0;34m,\u001b[0m \u001b[0mrequest\u001b[0m\u001b[0;34m)\u001b[0m\u001b[0;34m\u001b[0m\u001b[0;34m\u001b[0m\u001b[0m\n\u001b[0m\u001b[1;32m     54\u001b[0m     \u001b[0mclientSocket\u001b[0m\u001b[0;34m.\u001b[0m\u001b[0mclose\u001b[0m\u001b[0;34m(\u001b[0m\u001b[0;34m)\u001b[0m\u001b[0;34m\u001b[0m\u001b[0;34m\u001b[0m\u001b[0m\n\u001b[1;32m     55\u001b[0m \u001b[0;34m\u001b[0m\u001b[0m\n",
      "\u001b[0;32m<ipython-input-128-0a1e9107b846>\u001b[0m in \u001b[0;36mredirect\u001b[0;34m(conn, proxyRequest)\u001b[0m\n\u001b[1;32m     90\u001b[0m             \u001b[0ms\u001b[0m\u001b[0;34m.\u001b[0m\u001b[0mclose\u001b[0m\u001b[0;34m(\u001b[0m\u001b[0;34m)\u001b[0m\u001b[0;34m\u001b[0m\u001b[0;34m\u001b[0m\u001b[0m\n\u001b[1;32m     91\u001b[0m             \u001b[0mconn\u001b[0m\u001b[0;34m.\u001b[0m\u001b[0mclose\u001b[0m\u001b[0;34m(\u001b[0m\u001b[0;34m)\u001b[0m\u001b[0;34m\u001b[0m\u001b[0;34m\u001b[0m\u001b[0m\n\u001b[0;32m---> 92\u001b[0;31m             \u001b[0;32mraise\u001b[0m \u001b[0mRuntimeError\u001b[0m\u001b[0;34m(\u001b[0m\u001b[0;34m\"timeout\"\u001b[0m\u001b[0;34m)\u001b[0m\u001b[0;34m\u001b[0m\u001b[0;34m\u001b[0m\u001b[0m\n\u001b[0m\u001b[1;32m     93\u001b[0m     \u001b[0ms\u001b[0m\u001b[0;34m.\u001b[0m\u001b[0mclose\u001b[0m\u001b[0;34m(\u001b[0m\u001b[0;34m)\u001b[0m\u001b[0;34m\u001b[0m\u001b[0;34m\u001b[0m\u001b[0m\n",
      "\u001b[0;31mRuntimeError\u001b[0m: timeout"
     ]
    }
   ],
   "source": [
    "server.jobs[-1].result()"
   ]
  },
  {
   "cell_type": "code",
   "execution_count": 88,
   "metadata": {},
   "outputs": [
    {
     "data": {
      "text/plain": [
       "b'b'"
      ]
     },
     "execution_count": 88,
     "metadata": {},
     "output_type": "execute_result"
    }
   ],
   "source": [
    "b'b'.strip(terminator)"
   ]
  },
  {
   "cell_type": "code",
   "execution_count": null,
   "metadata": {},
   "outputs": [],
   "source": []
  }
 ],
 "metadata": {
  "kernelspec": {
   "display_name": "Python 3",
   "language": "python",
   "name": "python3"
  },
  "language_info": {
   "codemirror_mode": {
    "name": "ipython",
    "version": 3
   },
   "file_extension": ".py",
   "mimetype": "text/x-python",
   "name": "python",
   "nbconvert_exporter": "python",
   "pygments_lexer": "ipython3",
   "version": "3.7.3"
  }
 },
 "nbformat": 4,
 "nbformat_minor": 2
}
